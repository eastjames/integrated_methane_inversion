{
 "cells": [
  {
   "cell_type": "code",
   "execution_count": 2,
   "id": "7ded08db-ae83-468a-9e14-6613b4dff4ef",
   "metadata": {},
   "outputs": [],
   "source": [
    "import glob\n",
    "import os\n",
    "import re\n",
    "import datetime\n",
    "import numpy as np\n",
    "#import xarray as xr\n",
    "#from netCDF4 import Dataset\n",
    "import sys"
   ]
  },
  {
   "cell_type": "code",
   "execution_count": 23,
   "id": "2ec56e7e-0c13-49a5-844c-1eec2730167c",
   "metadata": {},
   "outputs": [],
   "source": [
    "import yaml\n",
    "with open(\"config_write_BCs.yml\", \"r\") as f:\n",
    "    config = yaml.safe_load(f)"
   ]
  },
  {
   "cell_type": "code",
   "execution_count": 24,
   "id": "9676f086-f9a2-481d-9092-4c9d9b99bbff",
   "metadata": {},
   "outputs": [],
   "source": [
    "start_time_of_interest = np.datetime64(datetime.datetime.strptime(config[\"startdate\"], \"%Y%m%d\"))\n",
    "end_time_of_interest = np.datetime64(datetime.datetime.strptime(config[\"enddate\"], \"%Y%m%d\")) + np.timedelta64(20, 'D')"
   ]
  },
  {
   "cell_type": "code",
   "execution_count": 25,
   "id": "6c84b937-998f-4fd5-a2d5-febd98f0ea26",
   "metadata": {},
   "outputs": [
    {
     "data": {
      "text/plain": [
       "numpy.datetime64('2018-12-31T00:00:00.000000')"
      ]
     },
     "execution_count": 25,
     "metadata": {},
     "output_type": "execute_result"
    }
   ],
   "source": [
    "start_time_of_interest"
   ]
  },
  {
   "cell_type": "code",
   "execution_count": 26,
   "id": "ab9d92d4-9e9a-4b1b-8f5c-797639ff04ae",
   "metadata": {},
   "outputs": [
    {
     "data": {
      "text/plain": [
       "numpy.datetime64('2019-01-22T00:00:00.000000')"
      ]
     },
     "execution_count": 26,
     "metadata": {},
     "output_type": "execute_result"
    }
   ],
   "source": [
    "end_time_of_interest"
   ]
  },
  {
   "cell_type": "code",
   "execution_count": 27,
   "id": "62580d75-6f82-4e13-a316-9c46804015bb",
   "metadata": {},
   "outputs": [],
   "source": [
    "def get_TROPOMI_times(filename):\n",
    "    \n",
    "    \"\"\"\n",
    "    Function that parses the TROPOMI filenames to get the start and end times.\n",
    "    Example input (str): S5P_RPRO_L2__CH4____20220725T152751_20220725T170921_24775_03_020400_20230201T100624.nc\n",
    "    Example output (tuple): (np.datetime64('2022-07-25T15:27:51'), np.datetime64('2022-07-25T17:09:21'))\n",
    "    \"\"\"\n",
    "\n",
    "    file_times = re.search(r'(\\d{8}T\\d{6})_(\\d{8}T\\d{6})', filename)\n",
    "    assert file_times is not None, \"check TROPOMI filename - wasn't able to find start and end times in the filename\"\n",
    "    start_TROPOMI_time = np.datetime64(datetime.datetime.strptime(file_times.group(1), \"%Y%m%dT%H%M%S\"))\n",
    "    end_TROPOMI_time = np.datetime64(datetime.datetime.strptime(file_times.group(2), \"%Y%m%dT%H%M%S\"))\n",
    "    \n",
    "    return start_TROPOMI_time, end_TROPOMI_time"
   ]
  },
  {
   "cell_type": "code",
   "execution_count": 28,
   "id": "ece6f94b-405d-44a5-9a2b-cd242bc4efd1",
   "metadata": {},
   "outputs": [],
   "source": [
    "TROPOMI_files = sorted([file for file in glob.glob(os.path.join(config[\"tropomi_cache\"], \"*.nc\"))\n",
    "                            if (start_time_of_interest <= get_TROPOMI_times(file)[0] <= end_time_of_interest)\n",
    "                            and (start_time_of_interest <= get_TROPOMI_times(file)[1] <= end_time_of_interest)])"
   ]
  },
  {
   "cell_type": "code",
   "execution_count": 29,
   "id": "a26b3167-8dde-4608-92eb-451fb959dfd3",
   "metadata": {},
   "outputs": [
    {
     "data": {
      "text/plain": [
       "311"
      ]
     },
     "execution_count": 29,
     "metadata": {},
     "output_type": "execute_result"
    }
   ],
   "source": [
    "len(TROPOMI_files)"
   ]
  },
  {
   "cell_type": "code",
   "execution_count": 31,
   "id": "c17efcf0-1baa-4d50-a16e-d74c1499176d",
   "metadata": {},
   "outputs": [],
   "source": [
    "assert len(\n",
    "    [\n",
    "        file for file in TROPOMI_files\n",
    "        if (\n",
    "            start_time_of_interest <= get_TROPOMI_times(file)[1] <= end_time_of_interest - np.timedelta64(20, 'D')\n",
    "        )\n",
    "    ]\n",
    ") > 20, \"There doesn't seem to be many files past the last day you want BCs. This is a problem because of the +/- 15 day temporal smoothing.\""
   ]
  },
  {
   "cell_type": "code",
   "execution_count": 32,
   "id": "527e8a6c-af27-4e3c-b61b-1de4553fd811",
   "metadata": {},
   "outputs": [
    {
     "data": {
      "text/plain": [
       "True"
      ]
     },
     "execution_count": 32,
     "metadata": {},
     "output_type": "execute_result"
    }
   ],
   "source": [
    "start_time_of_interest <= get_TROPOMI_times(TROPOMI_files[-1])[1]"
   ]
  },
  {
   "cell_type": "code",
   "execution_count": 33,
   "id": "1284ceb2-121e-4339-9dfe-a13db0b3a76a",
   "metadata": {},
   "outputs": [
    {
     "data": {
      "text/plain": [
       "numpy.datetime64('2019-01-21T22:21:46.000000')"
      ]
     },
     "execution_count": 33,
     "metadata": {},
     "output_type": "execute_result"
    }
   ],
   "source": [
    "get_TROPOMI_times(TROPOMI_files[-1])[1]"
   ]
  },
  {
   "cell_type": "code",
   "execution_count": 34,
   "id": "617c16b3-644c-4172-bda9-42a00fcf3af8",
   "metadata": {},
   "outputs": [
    {
     "data": {
      "text/plain": [
       "numpy.datetime64('2019-01-02T00:00:00.000000')"
      ]
     },
     "execution_count": 34,
     "metadata": {},
     "output_type": "execute_result"
    }
   ],
   "source": [
    "end_time_of_interest - np.timedelta64(20, 'D')"
   ]
  },
  {
   "cell_type": "code",
   "execution_count": 35,
   "id": "b05a9695-988e-4dc6-8d3d-cab658dd195a",
   "metadata": {},
   "outputs": [
    {
     "data": {
      "text/plain": [
       "['/n/holylfs05/LABS/jacob_lab/imi/ch4/blended/S5P_BLND_L2__CH4____20181231T001500_20181231T015630_06294_03_020400_20230614T040525.nc',\n",
       " '/n/holylfs05/LABS/jacob_lab/imi/ch4/blended/S5P_BLND_L2__CH4____20181231T015630_20181231T033759_06295_03_020400_20230614T040429.nc',\n",
       " '/n/holylfs05/LABS/jacob_lab/imi/ch4/blended/S5P_BLND_L2__CH4____20181231T033759_20181231T051929_06296_03_020400_20230614T040516.nc',\n",
       " '/n/holylfs05/LABS/jacob_lab/imi/ch4/blended/S5P_BLND_L2__CH4____20181231T051929_20181231T070059_06297_03_020400_20230614T040443.nc',\n",
       " '/n/holylfs05/LABS/jacob_lab/imi/ch4/blended/S5P_BLND_L2__CH4____20181231T070059_20181231T084229_06298_03_020400_20230614T040655.nc',\n",
       " '/n/holylfs05/LABS/jacob_lab/imi/ch4/blended/S5P_BLND_L2__CH4____20181231T084229_20181231T102359_06299_03_020400_20230614T040449.nc',\n",
       " '/n/holylfs05/LABS/jacob_lab/imi/ch4/blended/S5P_BLND_L2__CH4____20181231T102359_20181231T120529_06300_03_020400_20230614T040659.nc',\n",
       " '/n/holylfs05/LABS/jacob_lab/imi/ch4/blended/S5P_BLND_L2__CH4____20181231T120529_20181231T134659_06301_03_020400_20230614T040456.nc',\n",
       " '/n/holylfs05/LABS/jacob_lab/imi/ch4/blended/S5P_BLND_L2__CH4____20181231T134659_20181231T152829_06302_03_020400_20230614T041021.nc',\n",
       " '/n/holylfs05/LABS/jacob_lab/imi/ch4/blended/S5P_BLND_L2__CH4____20181231T152829_20181231T170959_06303_03_020400_20230614T040513.nc',\n",
       " '/n/holylfs05/LABS/jacob_lab/imi/ch4/blended/S5P_BLND_L2__CH4____20181231T170959_20181231T185129_06304_03_020400_20230614T040903.nc',\n",
       " '/n/holylfs05/LABS/jacob_lab/imi/ch4/blended/S5P_BLND_L2__CH4____20181231T185129_20181231T203259_06305_03_020400_20230614T040524.nc',\n",
       " '/n/holylfs05/LABS/jacob_lab/imi/ch4/blended/S5P_BLND_L2__CH4____20181231T203259_20181231T221429_06306_03_020400_20230614T040620.nc',\n",
       " '/n/holylfs05/LABS/jacob_lab/imi/ch4/blended/S5P_BLND_L2__CH4____20181231T221429_20181231T235559_06307_03_020400_20230614T040529.nc',\n",
       " '/n/holylfs05/LABS/jacob_lab/imi/ch4/blended/S5P_BLND_L2__CH4____20181231T235559_20190101T013729_06308_03_020400_20230614T012458.nc',\n",
       " '/n/holylfs05/LABS/jacob_lab/imi/ch4/blended/S5P_BLND_L2__CH4____20190101T013729_20190101T031859_06309_03_020400_20230614T012622.nc',\n",
       " '/n/holylfs05/LABS/jacob_lab/imi/ch4/blended/S5P_BLND_L2__CH4____20190101T031859_20190101T050029_06310_03_020400_20230614T012458.nc',\n",
       " '/n/holylfs05/LABS/jacob_lab/imi/ch4/blended/S5P_BLND_L2__CH4____20190101T050029_20190101T064159_06311_03_020400_20230614T012759.nc',\n",
       " '/n/holylfs05/LABS/jacob_lab/imi/ch4/blended/S5P_BLND_L2__CH4____20190101T064159_20190101T082329_06312_03_020400_20230614T012458.nc',\n",
       " '/n/holylfs05/LABS/jacob_lab/imi/ch4/blended/S5P_BLND_L2__CH4____20190101T082329_20190101T100459_06313_03_020400_20230614T013001.nc',\n",
       " '/n/holylfs05/LABS/jacob_lab/imi/ch4/blended/S5P_BLND_L2__CH4____20190101T100459_20190101T114629_06314_03_020400_20230614T012458.nc',\n",
       " '/n/holylfs05/LABS/jacob_lab/imi/ch4/blended/S5P_BLND_L2__CH4____20190101T114629_20190101T132759_06315_03_020400_20230614T013126.nc',\n",
       " '/n/holylfs05/LABS/jacob_lab/imi/ch4/blended/S5P_BLND_L2__CH4____20190101T132759_20190101T150929_06316_03_020400_20230614T012458.nc',\n",
       " '/n/holylfs05/LABS/jacob_lab/imi/ch4/blended/S5P_BLND_L2__CH4____20190101T150929_20190101T165059_06317_03_020400_20230614T012809.nc',\n",
       " '/n/holylfs05/LABS/jacob_lab/imi/ch4/blended/S5P_BLND_L2__CH4____20190101T165059_20190101T183229_06318_03_020400_20230614T012458.nc',\n",
       " '/n/holylfs05/LABS/jacob_lab/imi/ch4/blended/S5P_BLND_L2__CH4____20190101T183229_20190101T201359_06319_03_020400_20230614T012703.nc',\n",
       " '/n/holylfs05/LABS/jacob_lab/imi/ch4/blended/S5P_BLND_L2__CH4____20190101T201359_20190101T215529_06320_03_020400_20230614T012458.nc',\n",
       " '/n/holylfs05/LABS/jacob_lab/imi/ch4/blended/S5P_BLND_L2__CH4____20190101T215529_20190101T233659_06321_03_020400_20230614T012643.nc']"
      ]
     },
     "execution_count": 35,
     "metadata": {},
     "output_type": "execute_result"
    }
   ],
   "source": [
    "[\n",
    "        file for file in TROPOMI_files\n",
    "        if (\n",
    "            start_time_of_interest <= get_TROPOMI_times(file)[1] <= end_time_of_interest - np.timedelta64(20, 'D')\n",
    "        )\n",
    "    ]"
   ]
  },
  {
   "cell_type": "code",
   "execution_count": null,
   "id": "5da4749e-a7e1-49b2-9032-a012e572eefe",
   "metadata": {},
   "outputs": [],
   "source": []
  }
 ],
 "metadata": {
  "kernelspec": {
   "display_name": "jpy01",
   "language": "python",
   "name": "jpy01"
  },
  "language_info": {
   "codemirror_mode": {
    "name": "ipython",
    "version": 3
   },
   "file_extension": ".py",
   "mimetype": "text/x-python",
   "name": "python",
   "nbconvert_exporter": "python",
   "pygments_lexer": "ipython3",
   "version": "3.11.3"
  }
 },
 "nbformat": 4,
 "nbformat_minor": 5
}
